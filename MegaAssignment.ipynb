{
 "cells": [
  {
   "cell_type": "markdown",
   "metadata": {},
   "source": [
    "### Q1  Which of the following terms are related to dictionaries?"
   ]
  },
  {
   "cell_type": "code",
   "execution_count": null,
   "metadata": {},
   "outputs": [],
   "source": [
    "a=value, b=item, d=key "
   ]
  },
  {
   "cell_type": "markdown",
   "metadata": {},
   "source": [
    "### Q2 Just like lists, + operator is used to extend dictionaries?"
   ]
  },
  {
   "cell_type": "code",
   "execution_count": null,
   "metadata": {},
   "outputs": [],
   "source": [
    "b=false"
   ]
  },
  {
   "cell_type": "markdown",
   "metadata": {},
   "source": [
    "### Q3 To access items from a dictionary, we specify the index of that item within [] like myDict[0]? "
   ]
  },
  {
   "cell_type": "code",
   "execution_count": null,
   "metadata": {},
   "outputs": [],
   "source": [
    "b=false"
   ]
  },
  {
   "cell_type": "markdown",
   "metadata": {},
   "source": [
    "### Q4 When we use [] to access the value from a dictionary which does not exist in that dictionary….?  "
   ]
  },
  {
   "cell_type": "code",
   "execution_count": null,
   "metadata": {},
   "outputs": [],
   "source": [
    "d=None of above"
   ]
  },
  {
   "cell_type": "markdown",
   "metadata": {},
   "source": [
    "### Q5 What does return the pop method of a dictionary? "
   ]
  },
  {
   "cell_type": "code",
   "execution_count": null,
   "metadata": {},
   "outputs": [],
   "source": [
    "d=value of the key, if it exists in the dictionary"
   ]
  },
  {
   "cell_type": "markdown",
   "metadata": {},
   "source": [
    "### Q6 What does return popitem method return? "
   ]
  },
  {
   "cell_type": "code",
   "execution_count": null,
   "metadata": {},
   "outputs": [],
   "source": [
    "b=tupple containing the pair of last item of the dictionary"
   ]
  },
  {
   "cell_type": "markdown",
   "metadata": {},
   "source": [
    "### Q7 Which of the following 2 methods can be used to iterate through the items of a dictionary?"
   ]
  },
  {
   "cell_type": "code",
   "execution_count": null,
   "metadata": {},
   "outputs": [],
   "source": [
    "a=items(), d=keys()"
   ]
  },
  {
   "cell_type": "markdown",
   "metadata": {},
   "source": [
    "### Q8 Which one of the following is used to enclose a dictionary? "
   ]
  },
  {
   "cell_type": "code",
   "execution_count": null,
   "metadata": {},
   "outputs": [],
   "source": [
    "b={} curly bracket"
   ]
  },
  {
   "cell_type": "markdown",
   "metadata": {},
   "source": [
    "### Q9 Write Python Program add key-value pair in dictionary and check if a Given Key or Value or Both Exists in a Dictionary or Not?"
   ]
  },
  {
   "cell_type": "code",
   "execution_count": null,
   "metadata": {},
   "outputs": [],
   "source": []
  },
  {
   "cell_type": "markdown",
   "metadata": {},
   "source": [
    "### Q10  Write a Python Program to Count the Frequency of Words Appearing in a String Using a Dictionary and print only the words having Even (divisible by 2) frequency?"
   ]
  },
  {
   "cell_type": "code",
   "execution_count": null,
   "metadata": {},
   "outputs": [],
   "source": [
    "val=input('Enter String: ')\n",
    "list1=val.split()\n",
    "list2=[list1.count(x) for x in list1]\n",
    "mydict =dict(zip(lst1,lst2))\n",
    "for k,v in mydict.items():\n",
    "    if(v%2==0):\n",
    "        print(k)"
   ]
  },
  {
   "cell_type": "markdown",
   "metadata": {},
   "source": [
    "### Q11 X = [\"Feb\",\"Apr\",\"Mar\", \"May\", \"Jun\", \"Jul\", \"Aug\", \"Jan\"]. What will be output of following?"
   ]
  },
  {
   "cell_type": "code",
   "execution_count": 1,
   "metadata": {},
   "outputs": [
    {
     "name": "stdout",
     "output_type": "stream",
     "text": [
      "['Feb', 'Apr', 'Mar']\n",
      "['Mar', 'May', 'Jun', 'Jul', 'Aug', 'Jan']\n",
      "['Jun', 'Jul', 'Aug', 'Jan']\n",
      "['Apr', 'May', 'Jul']\n",
      "[]\n",
      "['Apr', 'Mar', 'May', 'Jun', 'Jul', 'Aug']\n",
      "['Jan', 'Jul', 'May', 'Apr']\n",
      "['Feb', 'Apr', 'Mar', 'May']\n"
     ]
    }
   ],
   "source": [
    "X = [\"Feb\",\"Apr\",\"Mar\", \"May\", \"Jun\", \"Jul\", \"Aug\", \"Jan\"]\n",
    "print(X[0:3])\n",
    "print(X[2:8])\n",
    "print(X[4:9])\n",
    "print(X[1:7:2])\n",
    "print(X[-1:-7])\n",
    "print(X[-7:7])\n",
    "print(X[-1:-8:-2])\n",
    "print(X[:4])"
   ]
  },
  {
   "cell_type": "markdown",
   "metadata": {},
   "source": [
    "### Q12 Remove the correct number from the list?"
   ]
  },
  {
   "cell_type": "code",
   "execution_count": 2,
   "metadata": {},
   "outputs": [
    {
     "name": "stdout",
     "output_type": "stream",
     "text": [
      "[2, 8, 4, 5]\n"
     ]
    }
   ],
   "source": [
    "X = [ 9,2,8,4,5] \n",
    "X.remove(9)\n",
    "print(X)"
   ]
  },
  {
   "cell_type": "markdown",
   "metadata": {},
   "source": [
    "### Q13"
   ]
  },
  {
   "cell_type": "code",
   "execution_count": 3,
   "metadata": {},
   "outputs": [
    {
     "name": "stdout",
     "output_type": "stream",
     "text": [
      "hello! hello! hello! \n"
     ]
    }
   ],
   "source": [
    "p=3\n",
    "q='hello! '\n",
    "print(p*q)"
   ]
  },
  {
   "cell_type": "markdown",
   "metadata": {},
   "source": [
    "### Q14 "
   ]
  },
  {
   "cell_type": "code",
   "execution_count": 4,
   "metadata": {},
   "outputs": [
    {
     "name": "stdout",
     "output_type": "stream",
     "text": [
      "THIS IS A RANDOM SENTENCE\n"
     ]
    }
   ],
   "source": [
    " y = \"this is a random sentence\" \n",
    "print(y.upper())"
   ]
  },
  {
   "cell_type": "markdown",
   "metadata": {},
   "source": [
    "### Q15"
   ]
  },
  {
   "cell_type": "code",
   "execution_count": 6,
   "metadata": {},
   "outputs": [
    {
     "name": "stdout",
     "output_type": "stream",
     "text": [
      "<class 'bool'>\n",
      "<class 'str'>\n",
      "<class 'int'>\n",
      "<class 'float'>\n"
     ]
    }
   ],
   "source": [
    "p = True \n",
    "q = 'True' \n",
    "r = 2 \n",
    "s = 2.0\n",
    "print(type(p)) \n",
    "print(type(q)) \n",
    "print(type(r)) \n",
    "print(type(s)) "
   ]
  },
  {
   "cell_type": "markdown",
   "metadata": {},
   "source": [
    "### Q16 What are the optional arguments to the function? \n",
    "function_1(R1, q, p=None, R2= None) "
   ]
  },
  {
   "cell_type": "code",
   "execution_count": null,
   "metadata": {},
   "outputs": [],
   "source": [
    "2= p and R2 "
   ]
  },
  {
   "cell_type": "markdown",
   "metadata": {},
   "source": [
    "### Q17  Which command invokes method X() of the object p?"
   ]
  },
  {
   "cell_type": "code",
   "execution_count": null,
   "metadata": {},
   "outputs": [],
   "source": [
    "4= p.x()"
   ]
  },
  {
   "cell_type": "markdown",
   "metadata": {},
   "source": [
    "### Q18"
   ]
  },
  {
   "cell_type": "code",
   "execution_count": 8,
   "metadata": {},
   "outputs": [
    {
     "name": "stdout",
     "output_type": "stream",
     "text": [
      "0\n",
      "2.0\n",
      "2\n",
      "2\n"
     ]
    }
   ],
   "source": [
    "X=4 \n",
    "Y= 2\n",
    "print(X % Y) \n",
    "print(X / Y) \n",
    "print(X // Y) \n",
    "print(Y % X)"
   ]
  },
  {
   "cell_type": "markdown",
   "metadata": {},
   "source": [
    "### Q19"
   ]
  },
  {
   "cell_type": "code",
   "execution_count": 9,
   "metadata": {},
   "outputs": [
    {
     "name": "stdout",
     "output_type": "stream",
     "text": [
      "4\n",
      "1\n",
      "1\n",
      "5\n",
      "9\n",
      "0\n"
     ]
    }
   ],
   "source": [
    "x = [[4, 1, 1], [5, 9, 0]]\n",
    "for i in x:\n",
    "    for j in i:\n",
    "        print(j,sep='\\t')"
   ]
  },
  {
   "cell_type": "code",
   "execution_count": 10,
   "metadata": {},
   "outputs": [
    {
     "name": "stdout",
     "output_type": "stream",
     "text": [
      "4\t5\t\n",
      "\n",
      "1\t9\t\n",
      "\n",
      "1\t0\t\n",
      "\n"
     ]
    }
   ],
   "source": [
    "for i in range(0,3):\n",
    "    for j in range(0,2):\n",
    "        print(x[j][i], end='\\t')\n",
    "    print('\\n')"
   ]
  },
  {
   "cell_type": "code",
   "execution_count": 12,
   "metadata": {},
   "outputs": [
    {
     "name": "stdout",
     "output_type": "stream",
     "text": [
      "4\t1\t1\t5\t9\t0\t"
     ]
    }
   ],
   "source": [
    "for i in range(0,2):\n",
    "    for j in range(0,3):\n",
    "        print(x[i][j],end='\\t')"
   ]
  },
  {
   "cell_type": "code",
   "execution_count": 21,
   "metadata": {},
   "outputs": [
    {
     "name": "stdout",
     "output_type": "stream",
     "text": [
      "4\t1\t1\t\n",
      "\n",
      "5\t9\t0\t\n",
      "\n"
     ]
    }
   ],
   "source": [
    "for i in range(0,2):\n",
    "    for j in range(0,3):\n",
    "        print(x[i][j], end='\\t')\n",
    "    print('\\n')"
   ]
  },
  {
   "cell_type": "markdown",
   "metadata": {},
   "source": [
    "### Q20"
   ]
  },
  {
   "cell_type": "code",
   "execution_count": 25,
   "metadata": {},
   "outputs": [
    {
     "name": "stdout",
     "output_type": "stream",
     "text": [
      "Item 0  -  10.62\n",
      "Item 1  -  16.14\n",
      "Item 2  -  6.45\n",
      "Item 3  -  17.11\n"
     ]
    }
   ],
   "source": [
    " q = [10.62, 16.14, 6.45, 17.11]\n",
    "for j,z in enumerate(q):\n",
    "      print( 'Item ' + str( j ) + '  - ', str ( z )) "
   ]
  },
  {
   "cell_type": "markdown",
   "metadata": {},
   "source": [
    "### Q21. Which of these about a dictionary is false?  "
   ]
  },
  {
   "cell_type": "code",
   "execution_count": null,
   "metadata": {},
   "outputs": [],
   "source": [
    "b= The keys of a dictionary can be accessed using values, d=Dictionaries are mutable"
   ]
  },
  {
   "cell_type": "markdown",
   "metadata": {},
   "source": [
    "### Q22  What is the output of the following: "
   ]
  },
  {
   "cell_type": "code",
   "execution_count": 28,
   "metadata": {},
   "outputs": [
    {
     "name": "stdout",
     "output_type": "stream",
     "text": [
      "{0: 1, 1: 1, 2: 1}\n"
     ]
    }
   ],
   "source": [
    "D=dict()\n",
    "for i in range(3):\n",
    "    for j in range(2):\n",
    "        D[i]=j\n",
    "print(D)"
   ]
  },
  {
   "cell_type": "markdown",
   "metadata": {},
   "source": [
    "### Q23 . You are writing a function that increments player score in a soccer game \n",
    "  If no value is specified for points, then point must start with 1 \n",
    "  If no value is specified for bonus, then bonus should be True "
   ]
  },
  {
   "cell_type": "code",
   "execution_count": null,
   "metadata": {},
   "outputs": [],
   "source": [
    "True    True   False"
   ]
  },
  {
   "cell_type": "markdown",
   "metadata": {},
   "source": [
    "### Q24  What will be output? "
   ]
  },
  {
   "cell_type": "code",
   "execution_count": 29,
   "metadata": {},
   "outputs": [
    {
     "name": "stdout",
     "output_type": "stream",
     "text": [
      "11.333333333333334\n"
     ]
    }
   ],
   "source": [
    "def avg ( x , y , z = 50 ): \n",
    "    adding = x + y + z \n",
    "    avg_value = adding / 3 \n",
    "    return avg_value \n",
    "y = avg ( x = 5 , y = 9 , z = 20 ) \n",
    "print(y)"
   ]
  },
  {
   "cell_type": "markdown",
   "metadata": {},
   "source": [
    "### Q25 What will be output? Describe it with reason and logic behind. Do multiple experiments with arguments / parameters to remove error, if occurs."
   ]
  },
  {
   "cell_type": "code",
   "execution_count": 32,
   "metadata": {},
   "outputs": [
    {
     "ename": "TypeError",
     "evalue": "avg() missing 1 required keyword-only argument: 'name'",
     "output_type": "error",
     "traceback": [
      "\u001b[1;31m---------------------------------------------------------------------------\u001b[0m",
      "\u001b[1;31mTypeError\u001b[0m                                 Traceback (most recent call last)",
      "\u001b[1;32m<ipython-input-32-568f861c0562>\u001b[0m in \u001b[0;36m<module>\u001b[1;34m\u001b[0m\n\u001b[0;32m      2\u001b[0m     \u001b[0mavg_value\u001b[0m \u001b[1;33m=\u001b[0m \u001b[0msum\u001b[0m \u001b[1;33m(\u001b[0m\u001b[0mopt_values\u001b[0m\u001b[1;33m)\u001b[0m \u001b[1;33m/\u001b[0m \u001b[0mlen\u001b[0m\u001b[1;33m(\u001b[0m\u001b[0mopt_values\u001b[0m\u001b[1;33m)\u001b[0m\u001b[1;33m\u001b[0m\u001b[1;33m\u001b[0m\u001b[0m\n\u001b[0;32m      3\u001b[0m     \u001b[0mprint\u001b[0m\u001b[1;33m(\u001b[0m\u001b[1;34m'name is: '\u001b[0m \u001b[1;33m+\u001b[0m \u001b[0mname\u001b[0m \u001b[1;33m+\u001b[0m \u001b[1;34m'Marks: '\u001b[0m \u001b[1;33m+\u001b[0m \u001b[0mstr\u001b[0m\u001b[1;33m(\u001b[0m\u001b[0mavg_value\u001b[0m\u001b[1;33m)\u001b[0m\u001b[1;33m)\u001b[0m\u001b[1;33m\u001b[0m\u001b[1;33m\u001b[0m\u001b[0m\n\u001b[1;32m----> 4\u001b[1;33m \u001b[0mavg\u001b[0m \u001b[1;33m(\u001b[0m \u001b[1;36m5\u001b[0m \u001b[1;33m,\u001b[0m \u001b[1;36m9\u001b[0m \u001b[1;33m,\u001b[0m \u001b[1;36m20\u001b[0m\u001b[1;33m,\u001b[0m \u001b[1;36m34\u001b[0m\u001b[1;33m,\u001b[0m \u001b[1;36m87\u001b[0m\u001b[1;33m,\u001b[0m \u001b[1;36m112\u001b[0m \u001b[1;33m,\u001b[0m \u001b[1;34m'Ali'\u001b[0m \u001b[1;33m)\u001b[0m\u001b[1;33m\u001b[0m\u001b[1;33m\u001b[0m\u001b[0m\n\u001b[0m",
      "\u001b[1;31mTypeError\u001b[0m: avg() missing 1 required keyword-only argument: 'name'"
     ]
    }
   ],
   "source": [
    "def avg ( *opt_values , name ): \n",
    "    avg_value = sum (opt_values) / len(opt_values) \n",
    "    print('name is: ' + name + 'Marks: ' + str(avg_value)) \n",
    "avg ( 5 , 9 , 20, 34, 87, 112 , 'Ali' ) "
   ]
  },
  {
   "cell_type": "code",
   "execution_count": 33,
   "metadata": {},
   "outputs": [
    {
     "ename": "SyntaxError",
     "evalue": "invalid syntax (<ipython-input-33-880077b87271>, line 1)",
     "output_type": "error",
     "traceback": [
      "\u001b[1;36m  File \u001b[1;32m\"<ipython-input-33-880077b87271>\"\u001b[1;36m, line \u001b[1;32m1\u001b[0m\n\u001b[1;33m    output= (Error because The pointer will get all the values and second parameter will not be able to get one)\u001b[0m\n\u001b[1;37m                         ^\u001b[0m\n\u001b[1;31mSyntaxError\u001b[0m\u001b[1;31m:\u001b[0m invalid syntax\n"
     ]
    }
   ],
   "source": [
    "output= (Error because The pointer will get all the values and second parameter will not be able to get one)"
   ]
  },
  {
   "cell_type": "markdown",
   "metadata": {},
   "source": [
    "### Q28 What will be the output of the following Python expression if X=123?"
   ]
  },
  {
   "cell_type": "code",
   "execution_count": 35,
   "metadata": {},
   "outputs": [
    {
     "name": "stdout",
     "output_type": "stream",
     "text": [
      "000123\n"
     ]
    }
   ],
   "source": [
    "X=123\n",
    "print(\"%06d\"%X)"
   ]
  },
  {
   "cell_type": "markdown",
   "metadata": {},
   "source": [
    "### Q29 What will be the output of the following Python expression if x=22.19? "
   ]
  },
  {
   "cell_type": "code",
   "execution_count": 36,
   "metadata": {},
   "outputs": [
    {
     "name": "stdout",
     "output_type": "stream",
     "text": [
      "22.19\n"
     ]
    }
   ],
   "source": [
    "x=22.19\n",
    "print(\"%5.2f\"%x)"
   ]
  },
  {
   "cell_type": "markdown",
   "metadata": {},
   "source": [
    "### Q30 What will be the output of the following Python code?"
   ]
  },
  {
   "cell_type": "code",
   "execution_count": 37,
   "metadata": {},
   "outputs": [
    {
     "data": {
      "text/plain": [
       "'1.234560, 1.234560, 01.23'"
      ]
     },
     "execution_count": 37,
     "metadata": {},
     "output_type": "execute_result"
    }
   ],
   "source": [
    "'{0:f}, {1:2f}, {2:05.2f}'.format(1.23456, 1.23456, 1.23456)"
   ]
  },
  {
   "cell_type": "markdown",
   "metadata": {},
   "source": [
    "### Q31  Write down the output of each line after each iterations. Do multiple experiments to change values."
   ]
  },
  {
   "cell_type": "code",
   "execution_count": 43,
   "metadata": {},
   "outputs": [
    {
     "name": "stdout",
     "output_type": "stream",
     "text": [
      "1\n"
     ]
    }
   ],
   "source": [
    "i = 1\n",
    "while False: \n",
    "    if i%2 == 0: \n",
    "        break \n",
    "print(i) \n",
    "i += 2 "
   ]
  },
  {
   "cell_type": "markdown",
   "metadata": {},
   "source": [
    "### Q32  Write down the output of each line after each iterations. Do multiple experiments to change value"
   ]
  },
  {
   "cell_type": "code",
   "execution_count": 45,
   "metadata": {},
   "outputs": [
    {
     "name": "stdout",
     "output_type": "stream",
     "text": [
      "b b b b b "
     ]
    }
   ],
   "source": [
    "x = \"abcdef\" \n",
    "i = \"a\" \n",
    "while i in x: \n",
    "    x = x[:-1] \n",
    "    print(i, end = \" \") "
   ]
  },
  {
   "cell_type": "markdown",
   "metadata": {},
   "source": [
    "### Q33  Write down the output of each line after each iterations. Do multiple experiments to change values"
   ]
  },
  {
   "cell_type": "code",
   "execution_count": 46,
   "metadata": {},
   "outputs": [
    {
     "name": "stdout",
     "output_type": "stream",
     "text": [
      "d\n",
      "c\n",
      "b\n",
      "a\n"
     ]
    }
   ],
   "source": [
    "for i in ''.join(reversed(list('abcd'))): \n",
    "    print (i)"
   ]
  },
  {
   "cell_type": "markdown",
   "metadata": {},
   "source": [
    "### Q34 Flow of the program. Write the output of each line after every iteration of ‘i’ "
   ]
  },
  {
   "cell_type": "code",
   "execution_count": 51,
   "metadata": {},
   "outputs": [
    {
     "name": "stdout",
     "output_type": "stream",
     "text": [
      "0\n",
      "1\n",
      "2\n",
      "3\n",
      "4\n"
     ]
    }
   ],
   "source": [
    "for i in range(10): \n",
    "    if i == 5: \n",
    "        break \n",
    "    else: \n",
    "        print(i) \n",
    "else: \n",
    "    print(\"Here\") "
   ]
  },
  {
   "cell_type": "markdown",
   "metadata": {},
   "source": [
    "### Q35  What is the output? And understand the functionality of lambda function"
   ]
  },
  {
   "cell_type": "code",
   "execution_count": 53,
   "metadata": {},
   "outputs": [
    {
     "name": "stdout",
     "output_type": "stream",
     "text": [
      "48\n"
     ]
    }
   ],
   "source": [
    "y = 6 \n",
    "z = lambda x: x * y \n",
    "print(z(8))"
   ]
  },
  {
   "cell_type": "markdown",
   "metadata": {},
   "source": [
    "### Q36  Write output and give proper logic of whatever the output comes."
   ]
  },
  {
   "cell_type": "code",
   "execution_count": 64,
   "metadata": {},
   "outputs": [
    {
     "data": {
      "text/plain": [
       "2"
      ]
     },
     "execution_count": 64,
     "metadata": {},
     "output_type": "execute_result"
    }
   ],
   "source": [
    "i=0 \n",
    "def change(i): \n",
    "    i=i+1 \n",
    "    return i \n",
    "change(1) \n",
    "#print(i) "
   ]
  },
  {
   "cell_type": "markdown",
   "metadata": {},
   "source": [
    "### Q40  What will be output? Define this output clearly"
   ]
  },
  {
   "cell_type": "code",
   "execution_count": 58,
   "metadata": {},
   "outputs": [
    {
     "name": "stdout",
     "output_type": "stream",
     "text": [
      "<class 'tuple'>\n",
      "(2, 3, 4)\n"
     ]
    }
   ],
   "source": [
    "def change(one, *two): \n",
    "    print(type(two)) \n",
    "    print(two) \n",
    "change(1,2,3,4)"
   ]
  },
  {
   "cell_type": "markdown",
   "metadata": {},
   "source": [
    "### Q41  What will be output? Define this output clearly "
   ]
  },
  {
   "cell_type": "code",
   "execution_count": 67,
   "metadata": {},
   "outputs": [
    {
     "name": "stdout",
     "output_type": "stream",
     "text": [
      "<class 'dict'>\n"
     ]
    }
   ],
   "source": [
    "def find(a, **b): \n",
    "    print(type(b)) \n",
    "find('letters',A='1',B='2') "
   ]
  },
  {
   "cell_type": "markdown",
   "metadata": {},
   "source": [
    "### Q42  Write output and define each line’s output for each iteration of ‘i’ "
   ]
  },
  {
   "cell_type": "code",
   "execution_count": 68,
   "metadata": {},
   "outputs": [
    {
     "name": "stdout",
     "output_type": "stream",
     "text": [
      "[0]\n",
      "[0, 1]\n",
      "[0, 1, 2]\n"
     ]
    }
   ],
   "source": [
    "def foo(i, x=[]): \n",
    "    x.append(i) \n",
    "    return x \n",
    "for i in range(3): \n",
    "    print(foo(i)) "
   ]
  },
  {
   "cell_type": "markdown",
   "metadata": {},
   "source": [
    "### Q43 Evaluate the following Python arithmetic expression: and write which segment will execute first? (Brackets, Exponents, Multiplication, Addition / Subtraction, Left to right rule)"
   ]
  },
  {
   "cell_type": "code",
   "execution_count": null,
   "metadata": {},
   "outputs": [],
   "source": [
    "(3*(1+2)**2-(2**2)*3)\n",
    "# (1+2) = 3\n",
    "# (2**2) =  4\n",
    "#  3**2 =  9\n",
    "#  9*3  = 27\n",
    "#  4*3  = 12\n",
    "#  27-12 = 15"
   ]
  },
  {
   "cell_type": "markdown",
   "metadata": {},
   "source": [
    "### Q44 You are creating a function that manipulates a number. The function has the following requirements: \n",
    " A float is passed into the function \n",
    " The function must take the absolute value of the float  \n",
    " Any decimal points after the integer must be removed "
   ]
  },
  {
   "cell_type": "code",
   "execution_count": null,
   "metadata": {},
   "outputs": [],
   "source": [
    "c=math.floor(x)"
   ]
  },
  {
   "cell_type": "markdown",
   "metadata": {},
   "source": [
    "### Q45 You are writing code that generates a random integer with a minimum value of 5 and a maximum value of 11. \n",
    "Which two functions should you use? Each correct answer presents a complete solution. (Choose two.) "
   ]
  },
  {
   "cell_type": "code",
   "execution_count": null,
   "metadata": {},
   "outputs": [],
   "source": [
    "a=random.randint(5, 12), c=random.randrange(5, 12, 1) "
   ]
  },
  {
   "cell_type": "markdown",
   "metadata": {},
   "source": [
    "### Q46  Write a program that receives marks from user and check the grade?\n",
    "Marks greater than equal to 90 then A grade \n",
    "  Marks between 80 to 90, B grade \n",
    "  Marks between 70 to 80, C grade \n",
    "  Marks between 60 to 70, D grade \n",
    "  Marks less than equal to 60 then E grade"
   ]
  },
  {
   "cell_type": "code",
   "execution_count": 73,
   "metadata": {},
   "outputs": [
    {
     "name": "stdout",
     "output_type": "stream",
     "text": [
      "Enter Marks: 59\n",
      "Grade E\n"
     ]
    }
   ],
   "source": [
    "marks=int(input('Enter Marks: '))\n",
    "if(marks>=90):\n",
    "    print('Grade A')\n",
    "elif(marks>=80):\n",
    "    print('Grade B')\n",
    "elif(marks>=70):\n",
    "    print('Grade C')\n",
    "elif(marks>=60):\n",
    "    print('Grade D')\n",
    "else:\n",
    "    print('Grade E')"
   ]
  },
  {
   "cell_type": "code",
   "execution_count": 3,
   "metadata": {},
   "outputs": [
    {
     "name": "stdout",
     "output_type": "stream",
     "text": [
      "[1, 2, 4, 5]\n",
      "[1, 2, 4, 5, 1, 2, 4, 5]\n"
     ]
    }
   ],
   "source": [
    "list1=[1,2]\n",
    "list2=[4,5]\n",
    "list3=list1+list2\n",
    "print(list3)\n",
    "list3=list3*2\n",
    "print(list3)"
   ]
  },
  {
   "cell_type": "code",
   "execution_count": 3,
   "metadata": {},
   "outputs": [
    {
     "name": "stdout",
     "output_type": "stream",
     "text": [
      "Yuiiii...\n",
      "Yuiiii...\n",
      "Yuiiii...\n",
      "Yuiiii...\n",
      "Yuiiii...\n",
      "Yuiiii...\n",
      "Yuiiii...\n",
      "Yuiiii...\n",
      "Yuiiii...\n",
      "Yuiiii...\n",
      "Total Liter= 10\n"
     ]
    }
   ],
   "source": [
    "sach=False\n",
    "counter=0\n",
    "while(sach!=True):\n",
    "    if(counter==10):\n",
    "        sach=True\n",
    "        break\n",
    "    counter+=1\n",
    "    print('Yuiiii...')\n",
    "print('Total Liter= '+str(counter))"
   ]
  },
  {
   "cell_type": "markdown",
   "metadata": {},
   "source": [
    "### Q48 Take a list of 10 numbers ( 0 to 9) Use while loop to find number 6 in list If found print index else keep finding"
   ]
  },
  {
   "cell_type": "code",
   "execution_count": 4,
   "metadata": {},
   "outputs": [
    {
     "name": "stdout",
     "output_type": "stream",
     "text": [
      "7\n"
     ]
    }
   ],
   "source": [
    "numbers=[0,2,1,4,5,3,7,6,8]\n",
    "index=0\n",
    "while(index<=10):\n",
    "    #print(numbers[index])\n",
    "    if numbers[index]==6:\n",
    "        print(index)\n",
    "        break\n",
    "    else:\n",
    "        index+=1"
   ]
  },
  {
   "cell_type": "markdown",
   "metadata": {},
   "source": [
    "### Dictionary"
   ]
  },
  {
   "cell_type": "code",
   "execution_count": 5,
   "metadata": {},
   "outputs": [
    {
     "data": {
      "text/plain": [
       "{'name': 'Nauman', 'age': 22, 'job': 'Developer'}"
      ]
     },
     "execution_count": 5,
     "metadata": {},
     "output_type": "execute_result"
    }
   ],
   "source": [
    "persondata={'name':'Nauman','age':22,'job':'Developer'}\n",
    "persondata"
   ]
  },
  {
   "cell_type": "code",
   "execution_count": 6,
   "metadata": {},
   "outputs": [
    {
     "data": {
      "text/plain": [
       "{'name': 'Nauman',\n",
       " 'age': 22,\n",
       " 'job': 'Developer',\n",
       " 'hobbies': ['Traveling', 'Coding']}"
      ]
     },
     "execution_count": 6,
     "metadata": {},
     "output_type": "execute_result"
    }
   ],
   "source": [
    "persondata['hobbies']=['Traveling','Coding']\n",
    "persondata"
   ]
  },
  {
   "cell_type": "code",
   "execution_count": 7,
   "metadata": {},
   "outputs": [
    {
     "data": {
      "text/plain": [
       "{'name': 'Nauman',\n",
       " 'age': 22,\n",
       " 'job': 'Developer',\n",
       " 'hobbies': ['Traveling', 'Coding'],\n",
       " 'experience': {'location': 'Pakistan',\n",
       "  'title': 'Python Developer',\n",
       "  'starting': '2018',\n",
       "  'ending': '2019'}}"
      ]
     },
     "execution_count": 7,
     "metadata": {},
     "output_type": "execute_result"
    }
   ],
   "source": [
    "workexperience={\n",
    "    'location':'Pakistan',\n",
    "    'title':'Python Developer',\n",
    "    'starting':'2018',\n",
    "    'ending':'2019'\n",
    "}\n",
    "persondata['experience']=workexperience\n",
    "persondata"
   ]
  },
  {
   "cell_type": "code",
   "execution_count": 8,
   "metadata": {},
   "outputs": [
    {
     "name": "stdout",
     "output_type": "stream",
     "text": [
      "{'location': 'Pakistan', 'title': 'Python Developer', 'starting': '2018', 'ending': '2019'}\n"
     ]
    }
   ],
   "source": [
    "print(persondata.get('experience'))"
   ]
  },
  {
   "cell_type": "code",
   "execution_count": 9,
   "metadata": {},
   "outputs": [
    {
     "data": {
      "text/plain": [
       "'Python Developer'"
      ]
     },
     "execution_count": 9,
     "metadata": {},
     "output_type": "execute_result"
    }
   ],
   "source": [
    "persondata['experience']['title']"
   ]
  },
  {
   "cell_type": "code",
   "execution_count": 12,
   "metadata": {},
   "outputs": [
    {
     "name": "stdout",
     "output_type": "stream",
     "text": [
      "Enter Name: Nauman\n",
      "Enter Your Subject Name: ADBMS\n",
      "Enter Your Subject Marks: 90\n",
      "Enter Your Subject Name: CCN\n",
      "Enter Your Subject Marks: 85\n",
      "Enter Your Subject Name: DPM\n",
      "Enter Your Subject Marks: 86\n",
      "Enter Your Hobbies: Traveling\n",
      "Enter Your Hobbies: Reading\n",
      "Enter Your Hobbies: Programming\n",
      "Enter x to close & y to continue!: x\n",
      "[{'name': 'Nauman', 'marks': {'90': 'ADBMS', '85': 'CCN', '86': 'DPM'}, 'hobbies': {'Reading', 'Programming', 'Traveling'}}]\n"
     ]
    }
   ],
   "source": [
    "data=[]\n",
    "exit=''\n",
    "while exit!='x':\n",
    "    persondetail={}\n",
    "    persondetail['name']=input('Enter Name: ')\n",
    "    persondetail['marks']={input('Enter Your Subject Name: '):input('Enter Your Subject Marks: ') for i in range(0,3)}\n",
    "    persondetail['hobbies']={input('Enter Your Hobbies: ')for i in range(0,3)}\n",
    "    data.append(persondetail)\n",
    "    exit=input('Enter x to close & y to continue!: ')\n",
    "print(data)"
   ]
  }
 ],
 "metadata": {
  "kernelspec": {
   "display_name": "Python 3",
   "language": "python",
   "name": "python3"
  },
  "language_info": {
   "codemirror_mode": {
    "name": "ipython",
    "version": 3
   },
   "file_extension": ".py",
   "mimetype": "text/x-python",
   "name": "python",
   "nbconvert_exporter": "python",
   "pygments_lexer": "ipython3",
   "version": "3.7.3"
  }
 },
 "nbformat": 4,
 "nbformat_minor": 2
}
